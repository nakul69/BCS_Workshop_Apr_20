{
  "nbformat": 4,
  "nbformat_minor": 0,
  "metadata": {
    "colab": {
      "name": "ML_180455.ipynb",
      "provenance": [],
      "collapsed_sections": [
        "UkJr6Lh9aIem",
        "4zJO-LIvn6sD",
        "NlX1GE9f84dN"
      ],
      "include_colab_link": true
    },
    "kernelspec": {
      "name": "python3",
      "display_name": "Python 3"
    },
    "accelerator": "GPU"
  },
  "cells": [
    {
      "cell_type": "markdown",
      "metadata": {
        "id": "view-in-github",
        "colab_type": "text"
      },
      "source": [
        "<a href=\"https://colab.research.google.com/github/nakul69/BCS_Workshop_Apr_20/blob/master/ML_180455.ipynb\" target=\"_parent\"><img src=\"https://colab.research.google.com/assets/colab-badge.svg\" alt=\"Open In Colab\"/></a>"
      ]
    },
    {
      "cell_type": "markdown",
      "metadata": {
        "id": "xgTHW1jTc94u",
        "colab_type": "text"
      },
      "source": [
        "<table class=\"tfo-notebook-buttons\" align=\"left\">\n",
        "  <td>\n",
        "    <a target=\"_blank\" href=\"https://colab.research.google.com/github/bcs-iitk/BCS_Workshop_Apr_20/blob/master/Machine_Learning/Assignment/ML.ipynb\"><img src=\"https://www.tensorflow.org/images/colab_logo_32px.png\" />Run in Google Colab</a>\n",
        "  </td>\n",
        "  <td>\n",
        "    <a target=\"_blank\" href=\"https://github.com/bcs-iitk/BCS_Workshop_Apr_20/blob/master/Machine_Learning/Assignment/ML.ipynb\"><img src=\"https://www.tensorflow.org/images/GitHub-Mark-32px.png\" />View source on GitHub</a>\n",
        "  </td>\n",
        "  <td>\n",
        "    <a href=\"https://github.com/bcs-iitk/BCS_Workshop_Apr_20/raw/master/Machine_Learning/Assignment/ML.ipynb\"><img src=\"https://www.tensorflow.org/images/download_logo_32px.png\" />Download notebook</a>\n",
        "  </td>\n",
        "</table>"
      ]
    },
    {
      "cell_type": "code",
      "metadata": {
        "id": "BiU-x0ujcRkE",
        "colab_type": "code",
        "colab": {}
      },
      "source": [
        "# Copyright (c) 2020 Brain and Cognitive Society, IIT Kanpur [ BCS @IITK ]\n",
        "# Copyright under MIT License, must reference https://github.com/bcs-iitk/BCS_Workshop_Apr_20 if used anywhere else.\n",
        "# Author: Shashi Kant (http://shashikg.github.io/)"
      ],
      "execution_count": 0,
      "outputs": []
    },
    {
      "cell_type": "markdown",
      "metadata": {
        "id": "-6GMP27JdNG2",
        "colab_type": "text"
      },
      "source": [
        "\n",
        "\n",
        "> Note: Do not forget to click on **Copy to Drive** in Google Colab to save a copy of this assignment.\n",
        "\n",
        "![copy2drive](https://github.com/bcs-iitk/BCS_Workshop_Apr_20/raw/master/Machine_Learning/Assignment/copy2drive.png)\n",
        "\n"
      ]
    },
    {
      "cell_type": "markdown",
      "metadata": {
        "id": "UWRTh7z2ZmM2",
        "colab_type": "text"
      },
      "source": [
        "# Assignment 1: Machine Learning\n"
      ]
    },
    {
      "cell_type": "markdown",
      "metadata": {
        "id": "UkJr6Lh9aIem",
        "colab_type": "text"
      },
      "source": [
        "## Question 1: Linear Regression\n",
        "To check whether you are able to build simple linear regression model from scratch or not."
      ]
    },
    {
      "cell_type": "code",
      "metadata": {
        "id": "wq1ZliSEuhTw",
        "colab_type": "code",
        "outputId": "9fe12ab1-25a2-419d-ebaf-1008f49d3629",
        "colab": {
          "base_uri": "https://localhost:8080/",
          "height": 605
        }
      },
      "source": [
        "import numpy as np\n",
        "import matplotlib.pyplot as plt\n",
        "\n",
        "!wget --no-check-certificate https://github.com/bcs-iitk/BCS_Workshop_Apr_20/raw/master/Machine_Learning/Assignment/X.npy -O X.npy\n",
        "!wget --no-check-certificate https://github.com/bcs-iitk/BCS_Workshop_Apr_20/raw/master/Machine_Learning/Assignment/y.npy -O y.npy"
      ],
      "execution_count": 0,
      "outputs": [
        {
          "output_type": "stream",
          "text": [
            "--2020-04-02 17:33:06--  https://github.com/bcs-iitk/BCS_Workshop_Apr_20/raw/master/Machine_Learning/Assignment/X.npy\n",
            "Resolving github.com (github.com)... 140.82.113.3\n",
            "Connecting to github.com (github.com)|140.82.113.3|:443... connected.\n",
            "HTTP request sent, awaiting response... 302 Found\n",
            "Location: https://raw.githubusercontent.com/bcs-iitk/BCS_Workshop_Apr_20/master/Machine_Learning/Assignment/X.npy [following]\n",
            "--2020-04-02 17:33:07--  https://raw.githubusercontent.com/bcs-iitk/BCS_Workshop_Apr_20/master/Machine_Learning/Assignment/X.npy\n",
            "Resolving raw.githubusercontent.com (raw.githubusercontent.com)... 151.101.0.133, 151.101.64.133, 151.101.128.133, ...\n",
            "Connecting to raw.githubusercontent.com (raw.githubusercontent.com)|151.101.0.133|:443... connected.\n",
            "HTTP request sent, awaiting response... 200 OK\n",
            "Length: 528 [application/octet-stream]\n",
            "Saving to: ‘X.npy’\n",
            "\n",
            "\rX.npy                 0%[                    ]       0  --.-KB/s               \rX.npy               100%[===================>]     528  --.-KB/s    in 0s      \n",
            "\n",
            "2020-04-02 17:33:07 (44.7 MB/s) - ‘X.npy’ saved [528/528]\n",
            "\n",
            "--2020-04-02 17:33:10--  https://github.com/bcs-iitk/BCS_Workshop_Apr_20/raw/master/Machine_Learning/Assignment/y.npy\n",
            "Resolving github.com (github.com)... 192.30.255.113\n",
            "Connecting to github.com (github.com)|192.30.255.113|:443... connected.\n",
            "HTTP request sent, awaiting response... 302 Found\n",
            "Location: https://raw.githubusercontent.com/bcs-iitk/BCS_Workshop_Apr_20/master/Machine_Learning/Assignment/y.npy [following]\n",
            "--2020-04-02 17:33:10--  https://raw.githubusercontent.com/bcs-iitk/BCS_Workshop_Apr_20/master/Machine_Learning/Assignment/y.npy\n",
            "Resolving raw.githubusercontent.com (raw.githubusercontent.com)... 151.101.0.133, 151.101.64.133, 151.101.128.133, ...\n",
            "Connecting to raw.githubusercontent.com (raw.githubusercontent.com)|151.101.0.133|:443... connected.\n",
            "HTTP request sent, awaiting response... 200 OK\n",
            "Length: 528 [application/octet-stream]\n",
            "Saving to: ‘y.npy’\n",
            "\n",
            "y.npy               100%[===================>]     528  --.-KB/s    in 0s      \n",
            "\n",
            "2020-04-02 17:33:10 (33.1 MB/s) - ‘y.npy’ saved [528/528]\n",
            "\n"
          ],
          "name": "stdout"
        }
      ]
    },
    {
      "cell_type": "code",
      "metadata": {
        "id": "021fTYdwTkZm",
        "colab_type": "code",
        "colab": {}
      },
      "source": [
        "def load_data_LR():\n",
        "  # Implement this function to read the dataset using the path declared in path_X and path_y\n",
        "  # should return the X and y data\n",
        "  # use np.load() to load the data google it you will get to know how to do it\n",
        "\n",
        "  path_X = \"X.npy\"\n",
        "  path_y = \"y.npy\"\n",
        "\n",
        "  # Write your code here ----------\n",
        "  X=np.load(path_X)\n",
        "  y=np.load(path_y)\n",
        "  # -------------------------------\n",
        "\n",
        "  return X, y    "
      ],
      "execution_count": 0,
      "outputs": []
    },
    {
      "cell_type": "code",
      "metadata": {
        "id": "Ngg3QUyTfBxC",
        "colab_type": "code",
        "colab": {}
      },
      "source": [
        "def get_linear_model(X, y):\n",
        "  # This shoudl return a proper linear model without bias of type y = XW\n",
        "\n",
        "  # Write your code here ----------\n",
        "  D=X.shape[1]\n",
        "  out_shape=y.shape[1]\n",
        "  # -------------------------------\n",
        "  \n",
        "  W = np.random.randn(D, out_shape)\n",
        "\n",
        "  return W"
      ],
      "execution_count": 0,
      "outputs": []
    },
    {
      "cell_type": "code",
      "metadata": {
        "id": "c52FIGu-hlzM",
        "colab_type": "code",
        "colab": {}
      },
      "source": [
        "def MSE(y, y_pred):\n",
        "  # should return the mean square error between the actual y and predicted y\n",
        "\n",
        "  # Write your code here ----------\n",
        "  error=(np.sum(np.square(y-y_pred)))/y.shape[0]\n",
        "  # -------------------------------\n",
        "\n",
        "  return error"
      ],
      "execution_count": 0,
      "outputs": []
    },
    {
      "cell_type": "code",
      "metadata": {
        "id": "zrBrqA15hCdT",
        "colab_type": "code",
        "colab": {}
      },
      "source": [
        "def train_by_algebra(X, y):\n",
        "  # should return the trained weight 'W' using the linear algebra method i.e. setting dE/dW = 0\n",
        "\n",
        "  # Write your code here ----------\n",
        "  X_=np.transpose(X)\n",
        "  A=np.matmul(X_,X)\n",
        "  B=np.linalg.inv(A)\n",
        "  C=np.matmul(B,X_)\n",
        "  W=np.matmul(C,y)\n",
        "  # -------------------------------\n",
        "\n",
        "  return W"
      ],
      "execution_count": 0,
      "outputs": []
    },
    {
      "cell_type": "code",
      "metadata": {
        "id": "kJ_r_R1PixX2",
        "colab_type": "code",
        "colab": {}
      },
      "source": [
        "def train_by_GD(X, y, epochs=5, lr=0.01):\n",
        "  # should return the trained weight 'W' using the gradient descent for number of iterations equals to epochs\n",
        "  # should also return error history int the cariable error_hist.shape = (epochs,); error_hist[i] = mean square error after epoch i-1\n",
        "  # should also print mean square error after each epoch/ iteration\n",
        "  # lr = \"learning rate\" i.e. eta\n",
        "  \n",
        "  # Write your code here ----------\n",
        "  W=get_linear_model(X,y)\n",
        "  X_=np.transpose(X)\n",
        "  n=y.shape[0]\n",
        "\n",
        "  error_hist=np.zeros(epochs,)\n",
        "\n",
        "  for i in range(epochs):\n",
        "    W=W-(lr)*(2/n)*np.matmul(X_,np.matmul(X,W)-y)\n",
        "    y_pred=np.matmul(X,W)\n",
        "    error_hist[i]=MSE(y,y_pred)\n",
        "  # -------------------------------\n",
        "\n",
        "  return W, error_hist"
      ],
      "execution_count": 0,
      "outputs": []
    },
    {
      "cell_type": "markdown",
      "metadata": {
        "id": "uLTxFIOgkdjJ",
        "colab_type": "text"
      },
      "source": [
        "### Now write a complete code using the function defined above to learn the model for following cases:"
      ]
    },
    {
      "cell_type": "markdown",
      "metadata": {
        "id": "eYW1AukM378a",
        "colab_type": "text"
      },
      "source": [
        "##### Learn **W** using linear algebra method and prints mean square error between actual y and predicted y. Use `y_pred = XW`. Also plot y_pred and y on different plots."
      ]
    },
    {
      "cell_type": "code",
      "metadata": {
        "id": "AIRs0jB-kOZU",
        "colab_type": "code",
        "outputId": "5abbc808-d18d-4e8e-957e-ebcba7849d9d",
        "colab": {
          "base_uri": "https://localhost:8080/",
          "height": 545
        }
      },
      "source": [
        "# Write your code here ----------\n",
        "  X,y=load_data_LR()\n",
        "  W=train_by_algebra(X,y)\n",
        "  y_pred=np.matmul(X,W)\n",
        "  plt.plot(y)\n",
        "  plt.title(\"y_value\")\n",
        "  plt.show()\n",
        "  plt.plot(y_pred)\n",
        "  plt.title(\"y_predicted\")\n",
        "  plt.show()\n",
        "# -------------------------------"
      ],
      "execution_count": 0,
      "outputs": [
        {
          "output_type": "display_data",
          "data": {
            "image/png": "[encoded data removed]",
            "text/plain": [
              "<Figure size 432x288 with 1 Axes>"
            ]
          },
          "metadata": {
            "tags": []
          }
        },
        {
          "output_type": "display_data",
          "data": {
            "image/png": "[encoded data removed]",
            "text/plain": [
              "<Figure size 432x288 with 1 Axes>"
            ]
          },
          "metadata": {
            "tags": []
          }
        }
      ]
    },
    {
      "cell_type": "markdown",
      "metadata": {
        "id": "6kP77_sK4CpT",
        "colab_type": "text"
      },
      "source": [
        "##### Learn **W** using gradient descent method for following learning rates, `lr = [10, 1, 0.1, 0.01, 0.001]` for **10 epochs**. Plot **MSE vs epochs** for each of them.  Also plot y_pred and y on different plots."
      ]
    },
    {
      "cell_type": "code",
      "metadata": {
        "colab_type": "code",
        "outputId": "167fe547-76dd-4833-e21b-af2841db4085",
        "id": "-6GvtDCRLQlw",
        "colab": {
          "base_uri": "https://localhost:8080/",
          "height": 848
        }
      },
      "source": [
        "# Write your code here ----------\n",
        "  X,y=load_data_LR()\n",
        "  W=get_linear_model(X,y)\n",
        "\n",
        "  lr = [0.01,0.001,0.0001]\n",
        "\n",
        "  for i in lr:\n",
        "    W,error_hist=train_by_GD(X,y,10,i)\n",
        "    y_pred=np.matmul(X,W)\n",
        "    fig,axs= plt.subplots(1,3)\n",
        "    fig.suptitle(\"Learning rate: {}\".format(i))\n",
        "    axs[0].plot(error_hist)\n",
        "    axs[0].set_title(\"MSE v/s epoch\")\n",
        "    axs[1].plot(y_pred)\n",
        "    axs[1].set_title(\"y_pred\")\n",
        "    axs[2].plot(y)\n",
        "    axs[2].set_title(\"y\")\n",
        "\n",
        "# -------------------------------"
      ],
      "execution_count": 0,
      "outputs": [
        {
          "output_type": "display_data",
          "data": {
            "image/png": "[encoded data removed]",
            "text/plain": [
              "<Figure size 432x288 with 3 Axes>"
            ]
          },
          "metadata": {
            "tags": []
          }
        },
        {
          "output_type": "display_data",
          "data": {
            "image/png": "[encoded data removed]",
            "text/plain": [
              "<Figure size 432x288 with 3 Axes>"
            ]
          },
          "metadata": {
            "tags": []
          }
        },
        {
          "output_type": "display_data",
          "data": {
            "image/png": "[encoded data removed]",
            "text/plain": [
              "<Figure size 432x288 with 3 Axes>"
            ]
          },
          "metadata": {
            "tags": []
          }
        }
      ]
    },
    {
      "cell_type": "markdown",
      "metadata": {
        "id": "4zJO-LIvn6sD",
        "colab_type": "text"
      },
      "source": [
        "## Question 2: Image Classification in Tensorflow using Deep Learning\n",
        "To check whether you are able to build a given neural network model in tensorflow or not. First we will build a fully connected NN model second we will build a CNN model."
      ]
    },
    {
      "cell_type": "code",
      "metadata": {
        "id": "7mynGfqRn24b",
        "colab_type": "code",
        "colab": {}
      },
      "source": [
        "import numpy as np\n",
        "import tensorflow as tf\n",
        "import matplotlib.pyplot as plt\n",
        "from tensorflow.keras.models import Sequential\n",
        "from tensorflow.keras.layers import Dense, Activation, Flatten, Conv2D, MaxPooling2D"
      ],
      "execution_count": 0,
      "outputs": []
    },
    {
      "cell_type": "code",
      "metadata": {
        "id": "s8WKt-qY4agV",
        "colab_type": "code",
        "colab": {}
      },
      "source": [
        "def plot_history(history):\n",
        "  # function to plot accuracy vs epoch\n",
        "\n",
        "  plt.plot(history.history['accuracy'], label='accuracy')\n",
        "  plt.plot(history.history['val_accuracy'], label = 'val_accuracy')\n",
        "  plt.xlabel('Epoch')\n",
        "  plt.ylabel('Accuracy')\n",
        "  plt.legend(loc='lower right')"
      ],
      "execution_count": 0,
      "outputs": []
    },
    {
      "cell_type": "code",
      "metadata": {
        "id": "tCT9Kmhhn5I_",
        "colab_type": "code",
        "colab": {}
      },
      "source": [
        "def load_data_cifar10_norm():\n",
        "  # should return the normalised cifar10 dataset by loading it from tensorflow\n",
        "  # link: https://www.tensorflow.org/api_docs/python/tf/keras/datasets/cifar10/\n",
        "  cf=tf.keras.datasets.cifar10\n",
        "  # Write your code here ----------\n",
        "  (x_train,y_train),(x_test,y_test)=cf.load_data()\n",
        "  x_train=x_train/255.0\n",
        "  x_test=x_test/255.0 \n",
        "  # -------------------------------\n",
        "\n",
        "  return x_train, y_train, x_test, y_test"
      ],
      "execution_count": 0,
      "outputs": []
    },
    {
      "cell_type": "markdown",
      "metadata": {
        "id": "LDpHSTRPvS9t",
        "colab_type": "text"
      },
      "source": [
        "### Define a fully connected neural network model with following attributes:\n",
        "\n",
        "*   Total number of **hidden layers = 4**, all with **relu** activation\n",
        "*   Number of neurons in **first hidden layer = 7200**\n",
        "*   Number of neurons in **second hidden layer = 2304**\n",
        "*   Number of neurons in **third hidden layer = 1024**\n",
        "*   Number of neurons in **fourth hidden layer = 64**\n"
      ]
    },
    {
      "cell_type": "code",
      "metadata": {
        "id": "VYYQzIWnqU3t",
        "colab_type": "code",
        "colab": {}
      },
      "source": [
        "def build_fc_model(input_shape=(32, 32, 3), num_class=10):\n",
        "  # should return a sequential model defined based on the above attributes\n",
        "  # do not compile the model\n",
        "  # Write your code here ----------\n",
        "  model=Sequential()\n",
        "  model.add(Flatten(input_shape=input_shape))\n",
        "\n",
        "  model.add(Dense(7200))\n",
        "  model.add(Activation('relu'))\n",
        "\n",
        "  model.add(Dense(2304))\n",
        "  model.add(Activation('relu'))\n",
        "\n",
        "  model.add(Dense(1024))\n",
        "  model.add(Activation('relu'))\n",
        "\n",
        "  model.add(Dense(64))\n",
        "  model.add(Activation('relu'))\n",
        "\n",
        "  model.add(Dense(num_class, activation='softmax'))\n",
        "  # -------------------------------\n",
        "\n",
        "  return model"
      ],
      "execution_count": 0,
      "outputs": []
    },
    {
      "cell_type": "markdown",
      "metadata": {
        "id": "pdcQ2yqz1RYH",
        "colab_type": "text"
      },
      "source": [
        "### Define a CNN model with following attribute:\n",
        "\n",
        "*   Total number of **hidden layer = 4**\n",
        "*   After every convolutional layer there must be a MaxPoolingLayer of size (2, 2)\n",
        "*   Total number of convolutional layer = 3, all with **relu** activation.\n",
        "    *    Number of filters in **first convolutional layer = 32**\n",
        "    *    Number of filters in **second convolutional layer = 64**\n",
        "    *    Number of filters in **third convolutional layer = 64**\n",
        "*   After all convolutional layer flatten the output and use **dense layer of 64 neurons**\n",
        "\n"
      ]
    },
    {
      "cell_type": "code",
      "metadata": {
        "id": "T00AYU3D3L1j",
        "colab_type": "code",
        "colab": {}
      },
      "source": [
        "def build_cnn_model(input_shape=(32, 32, 3), num_class=10):\n",
        "  # should return a sequential model defined based on the above attributes\n",
        "  # do not compile the model\n",
        "\n",
        "  # Write your code here ----------\n",
        "  model= Sequential()\n",
        "\n",
        "  model.add(Conv2D(32,(3,3),input_shape=input_shape, activation='relu'))\n",
        "  model.add(MaxPooling2D(2,2))\n",
        "\n",
        "  model.add(Conv2D(64,(3,3), activation='relu'))\n",
        "  model.add(MaxPooling2D(2,2))\n",
        "\n",
        "  model.add(Conv2D(64,(3,3), activation='relu'))\n",
        "  model.add(MaxPooling2D(2,2))\n",
        "\n",
        "  model.add(Flatten())\n",
        "  model.add(Dense(64, activation='relu'))\n",
        "\n",
        "  model.add(Dense(num_class, activation='softmax'))\n",
        "  # -------------------------------\n",
        "\n",
        "  return model"
      ],
      "execution_count": 0,
      "outputs": []
    },
    {
      "cell_type": "markdown",
      "metadata": {
        "id": "7SXXUeRp4Urq",
        "colab_type": "text"
      },
      "source": [
        "### Compile and train the fully connected neural network model using the above functions."
      ]
    },
    {
      "cell_type": "code",
      "metadata": {
        "id": "61_XiEUR3eV0",
        "colab_type": "code",
        "outputId": "5223c3b6-f41b-4e51-efee-ddb9269d2bfa",
        "colab": {
          "base_uri": "https://localhost:8080/",
          "height": 1000
        }
      },
      "source": [
        "# Write your code here ----------\n",
        "x_train,y_train,x_test,y_test=load_data_cifar10_norm()\n",
        "\n",
        "y_train=tf.keras.utils.to_categorical(y_train,10)\n",
        "y_test=tf.keras.utils.to_categorical(y_test,10)\n",
        "\n",
        "model=build_fc_model(input_shape=(32,32,3), num_class=10)\n",
        "model.compile(loss='categorical_crossentropy', optimizer='adam', metrics=['accuracy'])\n",
        "# -------------------------------\n",
        "\n",
        "history = model.fit(x_train, y_train, epochs=10, batch_size=512,\n",
        "                    validation_data=(x_test, y_test))\n",
        "\n",
        "plot_history(history)\n",
        "model.summary()"
      ],
      "execution_count": 0,
      "outputs": [
        {
          "output_type": "stream",
          "text": [
            "Epoch 1/10\n",
            "98/98 [==============================] - 6s 65ms/step - loss: 2.8649 - accuracy: 0.1438 - val_loss: 2.1652 - val_accuracy: 0.1804\n",
            "Epoch 2/10\n",
            "98/98 [==============================] - 6s 62ms/step - loss: 2.0595 - accuracy: 0.2386 - val_loss: 1.9702 - val_accuracy: 0.2788\n",
            "Epoch 3/10\n",
            "98/98 [==============================] - 6s 62ms/step - loss: 1.8914 - accuracy: 0.3096 - val_loss: 1.8240 - val_accuracy: 0.3171\n",
            "Epoch 4/10\n",
            "98/98 [==============================] - 6s 62ms/step - loss: 1.7625 - accuracy: 0.3564 - val_loss: 1.6921 - val_accuracy: 0.3899\n",
            "Epoch 5/10\n",
            "98/98 [==============================] - 6s 62ms/step - loss: 1.6726 - accuracy: 0.3990 - val_loss: 1.6527 - val_accuracy: 0.4022\n",
            "Epoch 6/10\n",
            "98/98 [==============================] - 6s 62ms/step - loss: 1.5941 - accuracy: 0.4286 - val_loss: 1.5661 - val_accuracy: 0.4422\n",
            "Epoch 7/10\n",
            "98/98 [==============================] - 6s 62ms/step - loss: 1.5577 - accuracy: 0.4426 - val_loss: 1.5799 - val_accuracy: 0.4383\n",
            "Epoch 8/10\n",
            "98/98 [==============================] - 6s 62ms/step - loss: 1.5140 - accuracy: 0.4599 - val_loss: 1.5014 - val_accuracy: 0.4668\n",
            "Epoch 9/10\n",
            "98/98 [==============================] - 6s 62ms/step - loss: 1.4627 - accuracy: 0.4800 - val_loss: 1.4979 - val_accuracy: 0.4740\n",
            "Epoch 10/10\n",
            "98/98 [==============================] - 6s 62ms/step - loss: 1.4338 - accuracy: 0.4879 - val_loss: 1.4619 - val_accuracy: 0.4851\n",
            "Model: \"sequential_2\"\n",
            "_________________________________________________________________\n",
            "Layer (type)                 Output Shape              Param #   \n",
            "=================================================================\n",
            "flatten_2 (Flatten)          (None, 3072)              0         \n",
            "_________________________________________________________________\n",
            "dense_7 (Dense)              (None, 7200)              22125600  \n",
            "_________________________________________________________________\n",
            "activation_4 (Activation)    (None, 7200)              0         \n",
            "_________________________________________________________________\n",
            "dense_8 (Dense)              (None, 2304)              16591104  \n",
            "_________________________________________________________________\n",
            "activation_5 (Activation)    (None, 2304)              0         \n",
            "_________________________________________________________________\n",
            "dense_9 (Dense)              (None, 1024)              2360320   \n",
            "_________________________________________________________________\n",
            "activation_6 (Activation)    (None, 1024)              0         \n",
            "_________________________________________________________________\n",
            "dense_10 (Dense)             (None, 64)                65600     \n",
            "_________________________________________________________________\n",
            "activation_7 (Activation)    (None, 64)                0         \n",
            "_________________________________________________________________\n",
            "dense_11 (Dense)             (None, 10)                650       \n",
            "=================================================================\n",
            "Total params: 41,143,274\n",
            "Trainable params: 41,143,274\n",
            "Non-trainable params: 0\n",
            "_________________________________________________________________\n"
          ],
          "name": "stdout"
        },
        {
          "output_type": "display_data",
          "data": {
            "image/png": "[encoded data removed]",
            "text/plain": [
              "<Figure size 432x288 with 1 Axes>"
            ]
          },
          "metadata": {
            "tags": []
          }
        }
      ]
    },
    {
      "cell_type": "markdown",
      "metadata": {
        "id": "Z_yHXGc47ENb",
        "colab_type": "text"
      },
      "source": [
        "### Compile and train the CNN model using the above functions."
      ]
    },
    {
      "cell_type": "code",
      "metadata": {
        "id": "aM9rueu97Gnq",
        "colab_type": "code",
        "outputId": "82f2d050-3d49-4d9a-f28f-4a20ee99a3d0",
        "colab": {
          "base_uri": "https://localhost:8080/",
          "height": 1000
        }
      },
      "source": [
        "# Write your code here ----------\n",
        "x_train,y_train,x_test,y_test=load_data_cifar10_norm()\n",
        "\n",
        "y_train=tf.keras.utils.to_categorical(y_train,10)\n",
        "y_test=tf.keras.utils.to_categorical(y_test,10)\n",
        "\n",
        "model= build_cnn_model(input_shape=(32,32,3),num_class=10)\n",
        "model.compile(loss='categorical_crossentropy', optimizer='adam', metrics=['accuracy'])\n",
        "# -------------------------------\n",
        "\n",
        "history = model.fit(x_train, y_train, epochs=10, batch_size=512,\n",
        "                    validation_data=(x_test, y_test))\n",
        "\n",
        "plot_history(history)\n",
        "model.summary()"
      ],
      "execution_count": 0,
      "outputs": [
        {
          "output_type": "stream",
          "text": [
            "Epoch 1/10\n",
            "98/98 [==============================] - 3s 26ms/step - loss: 1.9652 - accuracy: 0.2721 - val_loss: 1.7096 - val_accuracy: 0.3666\n",
            "Epoch 2/10\n",
            "98/98 [==============================] - 2s 23ms/step - loss: 1.6094 - accuracy: 0.4119 - val_loss: 1.5048 - val_accuracy: 0.4523\n",
            "Epoch 3/10\n",
            "98/98 [==============================] - 2s 24ms/step - loss: 1.4735 - accuracy: 0.4691 - val_loss: 1.4174 - val_accuracy: 0.4917\n",
            "Epoch 4/10\n",
            "98/98 [==============================] - 2s 23ms/step - loss: 1.3634 - accuracy: 0.5118 - val_loss: 1.3259 - val_accuracy: 0.5266\n",
            "Epoch 5/10\n",
            "98/98 [==============================] - 2s 24ms/step - loss: 1.2913 - accuracy: 0.5415 - val_loss: 1.2739 - val_accuracy: 0.5412\n",
            "Epoch 6/10\n",
            "98/98 [==============================] - 2s 24ms/step - loss: 1.2345 - accuracy: 0.5632 - val_loss: 1.2227 - val_accuracy: 0.5607\n",
            "Epoch 7/10\n",
            "98/98 [==============================] - 2s 24ms/step - loss: 1.1825 - accuracy: 0.5849 - val_loss: 1.1898 - val_accuracy: 0.5792\n",
            "Epoch 8/10\n",
            "98/98 [==============================] - 2s 23ms/step - loss: 1.1503 - accuracy: 0.5967 - val_loss: 1.1794 - val_accuracy: 0.5784\n",
            "Epoch 9/10\n",
            "98/98 [==============================] - 2s 24ms/step - loss: 1.1102 - accuracy: 0.6105 - val_loss: 1.1531 - val_accuracy: 0.5961\n",
            "Epoch 10/10\n",
            "98/98 [==============================] - 2s 24ms/step - loss: 1.0772 - accuracy: 0.6252 - val_loss: 1.1170 - val_accuracy: 0.6066\n",
            "Model: \"sequential_7\"\n",
            "_________________________________________________________________\n",
            "Layer (type)                 Output Shape              Param #   \n",
            "=================================================================\n",
            "conv2d (Conv2D)              (None, 30, 30, 32)        896       \n",
            "_________________________________________________________________\n",
            "max_pooling2d (MaxPooling2D) (None, 15, 15, 32)        0         \n",
            "_________________________________________________________________\n",
            "conv2d_1 (Conv2D)            (None, 13, 13, 64)        18496     \n",
            "_________________________________________________________________\n",
            "max_pooling2d_1 (MaxPooling2 (None, 6, 6, 64)          0         \n",
            "_________________________________________________________________\n",
            "conv2d_2 (Conv2D)            (None, 4, 4, 64)          36928     \n",
            "_________________________________________________________________\n",
            "max_pooling2d_2 (MaxPooling2 (None, 2, 2, 64)          0         \n",
            "_________________________________________________________________\n",
            "flatten_6 (Flatten)          (None, 256)               0         \n",
            "_________________________________________________________________\n",
            "dense_30 (Dense)             (None, 64)                16448     \n",
            "_________________________________________________________________\n",
            "dense_31 (Dense)             (None, 10)                650       \n",
            "=================================================================\n",
            "Total params: 73,418\n",
            "Trainable params: 73,418\n",
            "Non-trainable params: 0\n",
            "_________________________________________________________________\n"
          ],
          "name": "stdout"
        },
        {
          "output_type": "display_data",
          "data": {
            "image/png": "[encoded data removed]",
            "text/plain": [
              "<Figure size 432x288 with 1 Axes>"
            ]
          },
          "metadata": {
            "tags": []
          }
        }
      ]
    },
    {
      "cell_type": "markdown",
      "metadata": {
        "id": "nKwrtPcy750Q",
        "colab_type": "text"
      },
      "source": [
        "### What do you observe? Compare both the model by looking at their Accuracy vs Epoch plot and total numbers of trainable parameters."
      ]
    },
    {
      "cell_type": "code",
      "metadata": {
        "id": "Q2lFRCoL8N_b",
        "colab_type": "code",
        "colab": {
          "base_uri": "https://localhost:8080/",
          "height": 35
        },
        "outputId": "e40d733e-04e9-4256-91d4-d82d9eb942c5"
      },
      "source": [
        "print(\"CNN model does better than the DNN because of less paraameter to train(prevents overfitting)\")"
      ],
      "execution_count": 59,
      "outputs": [
        {
          "output_type": "stream",
          "text": [
            "CNN model does better than the DNN because of less paraameter to train(prevents overfitting)\n"
          ],
          "name": "stdout"
        }
      ]
    },
    {
      "cell_type": "markdown",
      "metadata": {
        "id": "NlX1GE9f84dN",
        "colab_type": "text"
      },
      "source": [
        "## Question 3: Image Classification in Tensorflow using Transfer Learning\n",
        "In this we will again try to learn a classification model for **cifar10** but by using the concept of transfer learning. "
      ]
    },
    {
      "cell_type": "markdown",
      "metadata": {
        "id": "TMQs8VAJaiZc",
        "colab_type": "text"
      },
      "source": [
        "### Brief description on Transfer Learning:"
      ]
    },
    {
      "cell_type": "markdown",
      "metadata": {
        "id": "velsoC8-KP6B",
        "colab_type": "text"
      },
      "source": [
        "The idea behind transfer learning for image classification is that when you train a model on a very large image dataset like ImageNet, then this model can effectivly serve as generic model of visual world. If you remember, a closer look at every CNN model gives you an idea that every CNN model used to have some sets of convolutional layers followed by a dense layer and finally at last a classification (output) layer. So, here the convolutional layer somewhat act as feature mapping function which maps the input image to an different dimensional space. And finally at the end you apply dense layer to classify the images based on those extracted features. <br>\n",
        "\n",
        "**Inshort this what you do in a CNN model:**\n",
        "![](https://github.com/bcs-iitk/BCS_Workshop_Apr_20/raw/master/Machine_Learning/Assignment/cnn_model.png)\n",
        "\n",
        "So what we will do in transfer learning is that we will use some already pre-trained model which are trained on ImageNet dataset. Will only use its learned convolutional layers as a feature mapping function. And finally will learn a fully connected neural network on those features to classify the images.\n"
      ]
    },
    {
      "cell_type": "markdown",
      "metadata": {
        "id": "203W4I0oMs5v",
        "colab_type": "text"
      },
      "source": [
        "### Attributes of Transfer Learning model to be build\n",
        "\n",
        "*   Pre-trained weights of VGG16 will be used as feature extracter\n",
        "*   After this flatten the output and use dense layer of **64 neurons**\n",
        "\n"
      ]
    },
    {
      "cell_type": "code",
      "metadata": {
        "id": "COUcSjSz9DtQ",
        "colab_type": "code",
        "colab": {}
      },
      "source": [
        "import numpy as np\n",
        "import tensorflow as tf\n",
        "import matplotlib.pyplot as plt\n",
        "from tensorflow.keras.applications.vgg16 import preprocess_input, VGG16"
      ],
      "execution_count": 0,
      "outputs": []
    },
    {
      "cell_type": "code",
      "metadata": {
        "id": "ylCRV_niMhxA",
        "colab_type": "code",
        "colab": {}
      },
      "source": [
        "def plot_history(history):\n",
        "  # function to plot accuracy vs epoch\n",
        "\n",
        "  plt.plot(history.history['accuracy'], label='accuracy')\n",
        "  plt.plot(history.history['val_accuracy'], label = 'val_accuracy')\n",
        "  plt.xlabel('Epoch')\n",
        "  plt.ylabel('Accuracy')\n",
        "  plt.legend(loc='lower right')"
      ],
      "execution_count": 0,
      "outputs": []
    },
    {
      "cell_type": "code",
      "metadata": {
        "id": "ijdwptetMmSL",
        "colab_type": "code",
        "colab": {}
      },
      "source": [
        "def load_data_cifar10():\n",
        "  # should return the normalised cifar10 dataset by loading it from tensorflow\n",
        "  # link: https://www.tensorflow.org/api_docs/python/tf/keras/datasets/cifar10/\n",
        "\n",
        "  # Write your code here ----------\n",
        "  (x_train,y_train),(x_test,y_test)=tf.keras.datasets.cifar10.load_data()\n",
        "  # -------------------------------\n",
        "\n",
        "  return preprocess_input(x_train), y_train, preprocess_input(x_test), y_test"
      ],
      "execution_count": 0,
      "outputs": []
    },
    {
      "cell_type": "code",
      "metadata": {
        "id": "8kgkpJfwKhlR",
        "colab_type": "code",
        "colab": {}
      },
      "source": [
        "def build_tl_model(num_class=10):\n",
        "  # should return the ccombined model using the VGG16 conv layers as conv layers\n",
        "  # and for fully connected layer part use the above attributes.\n",
        "\n",
        "  base_model = VGG16(input_shape=(32, 32, 3), include_top=False, weights='imagenet') # this is the conv layers from VGG16\n",
        "  base_model.trainable = False # this ensures that while training the dense layers these weights don't get changed\n",
        "\n",
        "  model = tf.keras.models.Sequential([\n",
        "    # Feature extractor \n",
        "    base_model,\n",
        "\n",
        "    # Flatten and use the attribute given the question to build the dense part\n",
        "    # Write your code here ----------\n",
        "    tf.keras.layers.Flatten(),\n",
        "    tf.keras.layers.Dense(64, activation='relu'),\n",
        "    tf.keras.layers.Dense(num_class, activation='softmax')\n",
        "    # -------------------------------\n",
        "  ])\n",
        "\n",
        "  return model"
      ],
      "execution_count": 0,
      "outputs": []
    },
    {
      "cell_type": "markdown",
      "metadata": {
        "id": "_-2kUilyPNJJ",
        "colab_type": "text"
      },
      "source": [
        "### Compile and train the model using above functions, use adam optimiser with learning rate = 0.0001"
      ]
    },
    {
      "cell_type": "code",
      "metadata": {
        "id": "6FzIIP7GPMOt",
        "colab_type": "code",
        "outputId": "b669c24b-fc89-4d41-93bc-5e062d91b9f4",
        "colab": {
          "base_uri": "https://localhost:8080/",
          "height": 977
        }
      },
      "source": [
        "# Write your code here ----------\n",
        "x_train,y_train,x_test,y_test= load_data_cifar10()\n",
        "\n",
        "y_train=tf.keras.utils.to_categorical(y_train,10)\n",
        "y_test=tf.keras.utils.to_categorical(y_test,10)\n",
        "\n",
        "model=build_tl_model(num_class=10)\n",
        "\n",
        "model.compile(loss=tf.keras.losses.categorical_crossentropy , optimizer=tf.keras.optimizers.Adam(learning_rate=0.0001) , metrics=['accuracy'])\n",
        "# -------------------------------\n",
        "\n",
        "history = model.fit(x_train, y_train, epochs=10, batch_size=512,\n",
        "                    validation_data=(x_test, y_test))\n",
        "\n",
        "plot_history(history)\n",
        "model.summary()"
      ],
      "execution_count": 0,
      "outputs": [
        {
          "output_type": "stream",
          "text": [
            "Downloading data from https://storage.googleapis.com/tensorflow/keras-applications/vgg16/vgg16_weights_tf_dim_ordering_tf_kernels_notop.h5\n",
            "58892288/58889256 [==============================] - 1s 0us/step\n",
            "Epoch 1/10\n",
            "98/98 [==============================] - 17s 172ms/step - loss: 13.7024 - accuracy: 0.1811 - val_loss: 8.5887 - val_accuracy: 0.2568\n",
            "Epoch 2/10\n",
            "98/98 [==============================] - 14s 142ms/step - loss: 6.8910 - accuracy: 0.3093 - val_loss: 5.7493 - val_accuracy: 0.3499\n",
            "Epoch 3/10\n",
            "98/98 [==============================] - 14s 142ms/step - loss: 5.0860 - accuracy: 0.3800 - val_loss: 4.6108 - val_accuracy: 0.3977\n",
            "Epoch 4/10\n",
            "98/98 [==============================] - 14s 142ms/step - loss: 4.1684 - accuracy: 0.4159 - val_loss: 3.9170 - val_accuracy: 0.4165\n",
            "Epoch 5/10\n",
            "98/98 [==============================] - 14s 142ms/step - loss: 3.5613 - accuracy: 0.4364 - val_loss: 3.4254 - val_accuracy: 0.4372\n",
            "Epoch 6/10\n",
            "98/98 [==============================] - 14s 142ms/step - loss: 3.1211 - accuracy: 0.4506 - val_loss: 3.0517 - val_accuracy: 0.4483\n",
            "Epoch 7/10\n",
            "98/98 [==============================] - 14s 143ms/step - loss: 2.7814 - accuracy: 0.4612 - val_loss: 2.7557 - val_accuracy: 0.4548\n",
            "Epoch 8/10\n",
            "98/98 [==============================] - 14s 143ms/step - loss: 2.5064 - accuracy: 0.4675 - val_loss: 2.5156 - val_accuracy: 0.4610\n",
            "Epoch 9/10\n",
            "98/98 [==============================] - 14s 143ms/step - loss: 2.2841 - accuracy: 0.4739 - val_loss: 2.3195 - val_accuracy: 0.4667\n",
            "Epoch 10/10\n",
            "98/98 [==============================] - 14s 143ms/step - loss: 2.1059 - accuracy: 0.4790 - val_loss: 2.1600 - val_accuracy: 0.4703\n",
            "Model: \"sequential\"\n",
            "_________________________________________________________________\n",
            "Layer (type)                 Output Shape              Param #   \n",
            "=================================================================\n",
            "vgg16 (Model)                (None, 1, 1, 512)         14714688  \n",
            "_________________________________________________________________\n",
            "flatten (Flatten)            (None, 512)               0         \n",
            "_________________________________________________________________\n",
            "dense (Dense)                (None, 64)                32832     \n",
            "_________________________________________________________________\n",
            "dense_1 (Dense)              (None, 10)                650       \n",
            "=================================================================\n",
            "Total params: 14,748,170\n",
            "Trainable params: 33,482\n",
            "Non-trainable params: 14,714,688\n",
            "_________________________________________________________________\n"
          ],
          "name": "stdout"
        },
        {
          "output_type": "display_data",
          "data": {
            "image/png": "[encoded data removed]",
            "text/plain": [
              "<Figure size 432x288 with 1 Axes>"
            ]
          },
          "metadata": {
            "tags": []
          }
        }
      ]
    },
    {
      "cell_type": "markdown",
      "metadata": {
        "id": "l0QMGbtcQKNx",
        "colab_type": "text"
      },
      "source": [
        "## Question 4: Reinforcement Learning\n",
        "In this you have to implement and train an RL agent to find a path for a frozen lake problem. "
      ]
    },
    {
      "cell_type": "markdown",
      "metadata": {
        "id": "qH7ubidoNaEv",
        "colab_type": "text"
      },
      "source": [
        "### Frozen Lake Problem Description:"
      ]
    },
    {
      "cell_type": "markdown",
      "metadata": {
        "id": "LTCY_Ip1M9Qc",
        "colab_type": "text"
      },
      "source": [
        "> Imagine there is a frozen lake stretching from your home to your office; you have to walk on the frozen lake to reach your office. But oops! There are holes in the frozen lake so you have to be careful while walking on the frozen lake to avoid getting trapped in the holes. [[src](https://subscription.packtpub.com/book/big_data_and_business_intelligence/9781788836524/3/ch03lvl1sec32/solving-the-frozen-lake-problem)]\n",
        "\n",
        "![frozen-lake](https://static.packt-cdn.com/products/9781788836524/graphics/49f3e058-2f32-40e8-9992-b53d1f57d138.png)\n",
        "\n",
        "\n",
        "Two task you have to do here:\n",
        "\n",
        "*   Implement a frozen lake scenario given the inputs, number of holes (M) and size of the lake (N) (Assume the lake is square). Starting point will be (0, 0) and goal will be to reach at (N-1, N-1)\n",
        "*   Implemenat Q-learning method to learn a path from start to goal.\n",
        "*   Use the following reward scheme: 50 points on reaching the goal, -50 points on stepping on a hole.\n",
        "\n",
        "#### Q-learning\n",
        "Recall from the lecture video that `Q[state, action]` gives you an action state pair to get an optimal policy. Recall the Q-Loss from the lecture video i.e:\n",
        "> $E = ||r + \\gamma \\cdot \\max_{a'} Q(s', a') - Q(s, a)||^2$\n",
        "\n",
        "Use gradient descent to minimise $E$ and work out a learning rule for $Q(s, a)$. \n",
        "> Take $\\max_{a'} Q(s', a')$ and $r$ to be independent of $Q(s, a)$.\n"
      ]
    },
    {
      "cell_type": "markdown",
      "metadata": {
        "id": "pbkIHLK7NFEw",
        "colab_type": "text"
      },
      "source": [
        "### Defining important functions"
      ]
    },
    {
      "cell_type": "code",
      "metadata": {
        "id": "QnnNULcYQNRj",
        "colab_type": "code",
        "colab": {}
      },
      "source": [
        "import numpy as np\n",
        "import matplotlib.pyplot as plt\n",
        "import copy"
      ],
      "execution_count": 0,
      "outputs": []
    },
    {
      "cell_type": "code",
      "metadata": {
        "id": "n9vGeSBZEG-r",
        "colab_type": "code",
        "colab": {}
      },
      "source": [
        "ActionMap = ['Up', 'Right', 'Down', 'Left']"
      ],
      "execution_count": 0,
      "outputs": []
    },
    {
      "cell_type": "code",
      "metadata": {
        "id": "izQzYoXBHVgr",
        "colab_type": "code",
        "colab": {}
      },
      "source": [
        "def get_board(N, M):\n",
        "  # should return an N x N size frozen lake - board with M randomle placed holes.\n",
        "  # use 'S' representation for starting point\n",
        "  # use 'G' representation for goal point\n",
        "  # use 'H' representation for holes\n",
        "  # use 'F' for frozen lakes \n",
        "  # use 'C' for displaying agents current position on the board\n",
        "  # Refer the representation from the image shown above\n",
        "\n",
        "  # Write your code here ----------\n",
        "  counter=M\n",
        "\n",
        "  board=np.chararray((N,N))\n",
        "  board.fill('F')\n",
        "  #for i in range(1,N):\n",
        "    #for j in range(1,N):\n",
        "      #board[i][j]='H'\n",
        "      #counter=counter-1\n",
        "      #if counter==0:\n",
        "        #break\n",
        "    #if counter==0:\n",
        "      #break    \n",
        "\n",
        "  while(1):\n",
        "    i=np.random.randint(0,N)\n",
        "    j=np.random.randint(0,N)\n",
        "    if board[i][j]!=b'H':\n",
        "      if i==0 and j==0:\n",
        "        pass\n",
        "      elif i==N-1 and j==N-1:\n",
        "        pass\n",
        "      else:\n",
        "        board[i][j]='H'\n",
        "        counter=counter-1    \n",
        "    if counter==0:\n",
        "      break    \n",
        "\n",
        "  board[0][0]='S'\n",
        "  board[N-1][N-1]='G'      \n",
        "  # -------------------------------\n",
        "\n",
        "  return board"
      ],
      "execution_count": 0,
      "outputs": []
    },
    {
      "cell_type": "code",
      "metadata": {
        "id": "nu6PW4KhIZH7",
        "colab_type": "code",
        "colab": {}
      },
      "source": [
        "def get_reward(board, N, M):\n",
        "  # should return an N x N size reward table for the generated frozen lake scenario\n",
        "  # use 50 reward for 'G' point\n",
        "  # use -50 reward for 'H' point\n",
        "  # o for rest.\n",
        "\n",
        "  # Write your code here ----------\n",
        "  reward=np.zeros((N,N))\n",
        "  reward[N-1][N-1]=50\n",
        "\n",
        "  for i in range(N):\n",
        "    for j in range(N):\n",
        "      if board[i][j]==b'H':\n",
        "        reward[i][j]=-50\n",
        "\n",
        "  # -------------------------------\n",
        "\n",
        "  return reward"
      ],
      "execution_count": 0,
      "outputs": []
    },
    {
      "cell_type": "code",
      "metadata": {
        "id": "B1ueYhO8Ecnh",
        "colab_type": "code",
        "colab": {}
      },
      "source": [
        "class FrozenLake:\n",
        "  def __init__(self, N, M):\n",
        "    # Recall python class, this function is called when you first initialise the class\n",
        "    # Should intialise the board and reward table based on the reward scheme\n",
        "    # Select M numbers of holes randomly\n",
        "\n",
        "    self.board = get_board(N, M)\n",
        "    self.init_board = copy.deepcopy(self.board) \n",
        "    self.reward = get_reward(self.board, N, M)\n",
        "    self.state = (0, 0)\n",
        "    self.finish = 0\n",
        "    self.N = N\n",
        "\n",
        "\n",
        "  def reset(self):\n",
        "    # should reset the env with board to initial state\n",
        "    # hint: set self.state at 0, 0 and use self.init_board to reset self.board\n",
        "\n",
        "    # Write your code here ----------\n",
        "    self.state=(0,0)\n",
        "    self.board= self.init_board\n",
        "    # -------------------------------\n",
        "    self.finish = 0\n",
        "\n",
        "    return self.state\n",
        "  \n",
        "  def step(self, action):\n",
        "    # ===== Action Table =========\n",
        "    #     0 -- UP\n",
        "    #     1 -- RIGHT\n",
        "    #     2 -- DOWN\n",
        "    #     3 -- LEFT\n",
        "    # perform the given action and get update the  self.state, get reward, and update the self.board according to new state\n",
        "    # update the self.board means update the new position with 'C' and replace previous position with \n",
        "    #{'S', 'F', 'G'} which is actually there according to the self.init_board\n",
        "    \n",
        "    # Write your code here ---------\n",
        "    if action==0:\n",
        "      self.board[self.state[0]][self.state[1]]=self.init_board[self.state[0]][self.state[1]]\n",
        "      self.state=(self.state[0]-1,self.state[1])\n",
        "      reward=self.reward[self.state[0]][self.state[1]]\n",
        "      #self.board[self.state[0]][self.state[1]]='C'\n",
        "\n",
        "    if action==1:\n",
        "      self.board[self.state[0]][self.state[1]]=self.init_board[self.state[0]][self.state[1]]\n",
        "      self.state=(self.state[0],self.state[1]+1)\n",
        "      reward=self.reward[self.state[0]][self.state[1]]\n",
        "      #self.board[self.state[0]][self.state[1]]='C'\n",
        "\n",
        "    if action==2:\n",
        "      self.board[self.state[0]][self.state[1]]=self.init_board[self.state[0]][self.state[1]]\n",
        "      self.state=(self.state[0]+1,self.state[1])\n",
        "      reward=self.reward[self.state[0]][self.state[1]]\n",
        "      #self.board[self.state[0]][self.state[1]]='C'\n",
        "\n",
        "    if action==3:\n",
        "      self.board[self.state[0]][self.state[1]]=self.init_board[self.state[0]][self.state[1]]\n",
        "      self.state=(self.state[0],self.state[1]-1)\n",
        "      reward=self.reward[self.state[0]][self.state[1]]\n",
        "      #self.board[self.state[0]][self.state[1]]='C'      \n",
        "    # -------------------------------\n",
        "    \n",
        "    # status to check if you reached your goal\n",
        "    if self.state == (self.N-1, self.N-1):\n",
        "        self.finish = 1\n",
        "        \n",
        "    return self.state, reward, self.finish\n",
        "  \n",
        "  def get_random_action(self):\n",
        "    # ===== Action Table =========\n",
        "    #     0 -- UP\n",
        "    #     1 -- RIGHT\n",
        "    #     2 -- DOWN\n",
        "    #     3 -- LEFT\n",
        "    # should return a possible random action out of the four\n",
        "    # hint: note that when you are around the corner or sides of the board not all four action will be available for you\n",
        "\n",
        "    # Write your code here ----------\n",
        "    if self.state==(0,0):\n",
        "      action=np.random.choice([1,2])\n",
        "    elif self.state==(self.N-1,0):\n",
        "      action=np.random.choice([0,1])\n",
        "    elif self.state==(0,self.N-1):\n",
        "      action=np.random.choice([2,3])  \n",
        "    else:\n",
        "      action=np.random.choice([0,1,2,3])\n",
        "\n",
        "\n",
        "    for i in range(1,self.N-1):\n",
        "      if self.state==(0,i):\n",
        "        action=np.random.choice([1,2,3])\n",
        "        break\n",
        "      elif self.state==(i,self.N-1):\n",
        "        action=np.random.choice([0,2,3])\n",
        "        break\n",
        "      elif self.state==(self.N-1,i):\n",
        "        action=np.random.choice([0,1,3])\n",
        "        break\n",
        "      elif self.state==(i,0):\n",
        "        action=np.random.choice([0,1,2])\n",
        "        break\n",
        "                   \n",
        "    # -------------------------------\n",
        "\n",
        "    return action    \n",
        "      \n",
        "  def display(self):\n",
        "    print(self.board)"
      ],
      "execution_count": 0,
      "outputs": []
    },
    {
      "cell_type": "markdown",
      "metadata": {
        "id": "oizARLSBNMxB",
        "colab_type": "text"
      },
      "source": [
        "### Environment creation and learning"
      ]
    },
    {
      "cell_type": "code",
      "metadata": {
        "id": "yGXRU7ImRnT6",
        "colab_type": "code",
        "colab": {}
      },
      "source": [
        "def explore_exploit(env, Q, state, episode):\n",
        "  # Recall from the video there are two way how you perform an action in Value Learning\n",
        "  # They are called explore or exploit?\n",
        "  # Notice that if you always select your new action based on maximum Q-value you will never get to see any new path right?\n",
        "  # You have to explore the environment to know new paths\n",
        "  # Write your code here to randomly select whether you want to explore or exploit\n",
        "  # The probability of exploration should be exp(-episode*5e-4)\n",
        "  # for exploration get some random action\n",
        "  # for exploitation get action based on max Q value\n",
        "\n",
        "  # Write your code here ----------\n",
        "  p1=np.exp(-episode*5e-4)\n",
        "  counter = np.random.choice([0,1],p=[p1,1-p1])#0 for exploration \\\\\\ 1 for exploitation\n",
        "\n",
        "  if counter==1:\n",
        "    action= Q[state[0]][state[1]].argmax()\n",
        "    if action==0 or action==2:\n",
        "      a=state[0]-1+action\n",
        "      if a>=0 and a<=env.N-1:\n",
        "        pass\n",
        "      else:\n",
        "        counter=0\n",
        "    if action==1 or action==3:\n",
        "      a=state[1]+2-action\n",
        "      if a>=0 and a<=env.N-1:\n",
        "        pass\n",
        "      else:\n",
        "        counter=0\n",
        "\n",
        "  if counter==0:\n",
        "    action=env.get_random_action()                \n",
        "  # -------------------------------\n",
        "\n",
        "  return action"
      ],
      "execution_count": 0,
      "outputs": []
    },
    {
      "cell_type": "code",
      "metadata": {
        "id": "N6ym5P3-LxOz",
        "colab_type": "code",
        "colab": {}
      },
      "source": [
        "def init_env_and_learn(N=6, M=12, gamma=0.8, lr=0.8):\n",
        "  # gamma: gamma param of total discounted reward\n",
        "  # lr: learning rate for Q updates\n",
        "  # N = grid size of frozen lake wil be N x N\n",
        "  # M = Number of holes\n",
        "  # returns env, Q-function, rewards\n",
        "\n",
        "  env = FrozenLake(N, M)\n",
        "  Q = np.zeros((N, N, 4))\n",
        "\n",
        "  total_episodes = 3000 # i.e. the number of times your RL agent will run through the board.\n",
        "  max_steps = N*N*3 # maximum number of steps to perform\n",
        "\n",
        "  rewards = []\n",
        "  for episode in range(total_episodes):\n",
        "    state = env.reset()\n",
        "    total_rewards = 0\n",
        "\n",
        "    for step in range(max_steps):\n",
        "      action = explore_exploit(env, Q, state, episode)\n",
        "\n",
        "      # Write your code here ----------------------------------------------------------\n",
        "      # Should perform the action get reward, new_state, finish status and update the Q value\n",
        "      a,b,c= env.step(action)\n",
        "\n",
        "      reward = b # replace these with your values\n",
        "      finish = c # replace these with your values\n",
        "      new_state = a # replace these with your values\n",
        "\n",
        "      Q[state][action] = Q[state][action] + lr*(reward+gamma*np.max(Q[new_state][:]) - Q[state][action]) ## Q update\n",
        "      # -------------------------------------------------------------------------------\n",
        "\n",
        "      total_rewards += reward\n",
        "      state = new_state\n",
        "      \n",
        "      if finish == 1: \n",
        "          break\n",
        "\n",
        "    rewards.append(total_rewards)\n",
        "\n",
        "  return env, Q, rewards"
      ],
      "execution_count": 0,
      "outputs": []
    },
    {
      "cell_type": "code",
      "metadata": {
        "id": "6z8EuJ6sXCTK",
        "colab_type": "code",
        "colab": {}
      },
      "source": [
        "def travel_path(env, Q):\n",
        "  # write a function to display a sequence of path performed using the learned Q-values\n",
        "  # show initial and final frozen lake board \n",
        "  # to perform an action at a state simply take max of Q at that state\n",
        "  # Write your code here ----------\n",
        "  env.reset()\n",
        "  print(env.board)\n",
        "  for i in range(100):\n",
        "   action=Q[env.state[0]][env.state[1]].argmax()\n",
        "   print(action)\n",
        "   env.state,b,c=env.step(action)\n",
        "   print(env.state)\n",
        "   if(env.state[0]==env.N-1 and env.state[1]==env.N-1):\n",
        "     break\n",
        "    #env.display()\n",
        "\n",
        "  # -------------------------------\n",
        "\n",
        "  return"
      ],
      "execution_count": 0,
      "outputs": []
    },
    {
      "cell_type": "markdown",
      "metadata": {
        "id": "Ios3sB8ZYDTN",
        "colab_type": "text"
      },
      "source": [
        "### Use N = 6, M = 10 and learn the models for following sets of gamma and lr:\n",
        "\n",
        "*   `(gamma, lr) = (0.8, 0.8)`\n",
        "*   `(gamma, lr) = (0.95, 0.8)`\n",
        "*   `(gamma, lr) = (0.6, 0.8)`\n",
        "*   `(gamma, lr) = (0.8, 0.95)`\n",
        "*   `(gamma, lr) = (0.8, 0.1)`\n",
        "\n",
        "Plot rewards vs episode for each of them and compare.\n",
        "\n"
      ]
    },
    {
      "cell_type": "code",
      "metadata": {
        "id": "1BB8d1_3MhsL",
        "colab_type": "code",
        "outputId": "9925fb13-36d3-45cb-806d-dfd389e307e5",
        "colab": {
          "base_uri": "https://localhost:8080/",
          "height": 283
        }
      },
      "source": [
        "# Write your code here ----------\n",
        "lst=[(0.8,0.8),(0.95,0.8),(0.6,0.8),(0.8,0.95),(0.8,0.1)]\n",
        "for count,i in enumerate(lst):\n",
        "  env,Q,rewards=init_env_and_learn(6,10, i[0],i[1])\n",
        "  plt.plot(rewards,label=\"{}_{}\".format(i[0],i[1]))\n",
        "  plt.legend()\n",
        "# -------------------------------\n",
        "\n",
        "print(\"According to the plot (0.8,0.1) gives the best result\")"
      ],
      "execution_count": 55,
      "outputs": [
        {
          "output_type": "stream",
          "text": [
            "According to the plot (0.6,0.8) gives the \n"
          ],
          "name": "stdout"
        },
        {
          "output_type": "display_data",
          "data": {
            "image/png": "[encoded data removed]",
            "text/plain": [
              "<Figure size 432x288 with 1 Axes>"
            ]
          },
          "metadata": {
            "tags": []
          }
        }
      ]
    },
    {
      "cell_type": "markdown",
      "metadata": {
        "id": "yI5oHjVbZkIW",
        "colab_type": "text"
      },
      "source": [
        "### Use N = 6, M = 10 and learn a models with (gamma, lr) = (0.8, 0.8)\n",
        "After learning the model, display a path traveled from source to goal."
      ]
    },
    {
      "cell_type": "code",
      "metadata": {
        "id": "RtDOaUEeMi-0",
        "colab_type": "code",
        "outputId": "42fe0524-cfdd-4815-d389-f78ef79bb8f0",
        "colab": {
          "base_uri": "https://localhost:8080/",
          "height": 495
        }
      },
      "source": [
        "# Write your code here ----------\n",
        "env,Q,rewards=init_env_and_learn(6,10,0.8,0.8)\n",
        "travel_path(env,Q)\n",
        "# -------------------------------"
      ],
      "execution_count": 62,
      "outputs": [
        {
          "output_type": "stream",
          "text": [
            "[[b'S' b'F' b'F' b'F' b'F' b'F']\n",
            " [b'F' b'F' b'F' b'H' b'H' b'F']\n",
            " [b'H' b'F' b'F' b'H' b'H' b'F']\n",
            " [b'H' b'F' b'H' b'F' b'F' b'F']\n",
            " [b'F' b'F' b'H' b'F' b'F' b'F']\n",
            " [b'F' b'H' b'H' b'F' b'F' b'G']]\n",
            "1\n",
            "(0, 1)\n",
            "1\n",
            "(0, 2)\n",
            "1\n",
            "(0, 3)\n",
            "1\n",
            "(0, 4)\n",
            "1\n",
            "(0, 5)\n",
            "2\n",
            "(1, 5)\n",
            "2\n",
            "(2, 5)\n",
            "2\n",
            "(3, 5)\n",
            "2\n",
            "(4, 5)\n",
            "2\n",
            "(5, 5)\n"
          ],
          "name": "stdout"
        }
      ]
    }
  ]
}